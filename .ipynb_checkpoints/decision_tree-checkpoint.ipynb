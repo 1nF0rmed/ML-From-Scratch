{
 "cells": [
  {
   "cell_type": "code",
   "execution_count": 1,
   "metadata": {},
   "outputs": [],
   "source": [
    "import pandas as pd\n",
    "import math"
   ]
  },
  {
   "cell_type": "code",
   "execution_count": 2,
   "metadata": {},
   "outputs": [
    {
     "data": {
      "text/html": [
       "<div>\n",
       "<style scoped>\n",
       "    .dataframe tbody tr th:only-of-type {\n",
       "        vertical-align: middle;\n",
       "    }\n",
       "\n",
       "    .dataframe tbody tr th {\n",
       "        vertical-align: top;\n",
       "    }\n",
       "\n",
       "    .dataframe thead th {\n",
       "        text-align: right;\n",
       "    }\n",
       "</style>\n",
       "<table border=\"1\" class=\"dataframe\">\n",
       "  <thead>\n",
       "    <tr style=\"text-align: right;\">\n",
       "      <th></th>\n",
       "      <th>Outlook</th>\n",
       "      <th>Temperature</th>\n",
       "      <th>Humidity</th>\n",
       "      <th>Wind</th>\n",
       "      <th>Answer</th>\n",
       "    </tr>\n",
       "  </thead>\n",
       "  <tbody>\n",
       "    <tr>\n",
       "      <th>0</th>\n",
       "      <td>sunny</td>\n",
       "      <td>hot</td>\n",
       "      <td>high</td>\n",
       "      <td>weak</td>\n",
       "      <td>no</td>\n",
       "    </tr>\n",
       "    <tr>\n",
       "      <th>1</th>\n",
       "      <td>sunny</td>\n",
       "      <td>hot</td>\n",
       "      <td>high</td>\n",
       "      <td>strong</td>\n",
       "      <td>no</td>\n",
       "    </tr>\n",
       "    <tr>\n",
       "      <th>2</th>\n",
       "      <td>overcast</td>\n",
       "      <td>hot</td>\n",
       "      <td>high</td>\n",
       "      <td>weak</td>\n",
       "      <td>yes</td>\n",
       "    </tr>\n",
       "    <tr>\n",
       "      <th>3</th>\n",
       "      <td>rain</td>\n",
       "      <td>mild</td>\n",
       "      <td>high</td>\n",
       "      <td>weak</td>\n",
       "      <td>yes</td>\n",
       "    </tr>\n",
       "    <tr>\n",
       "      <th>4</th>\n",
       "      <td>rain</td>\n",
       "      <td>cool</td>\n",
       "      <td>normal</td>\n",
       "      <td>weak</td>\n",
       "      <td>yes</td>\n",
       "    </tr>\n",
       "  </tbody>\n",
       "</table>\n",
       "</div>"
      ],
      "text/plain": [
       "    Outlook Temperature Humidity    Wind Answer\n",
       "0     sunny         hot     high    weak     no\n",
       "1     sunny         hot     high  strong     no\n",
       "2  overcast         hot     high    weak    yes\n",
       "3      rain        mild     high    weak    yes\n",
       "4      rain        cool   normal    weak    yes"
      ]
     },
     "execution_count": 2,
     "metadata": {},
     "output_type": "execute_result"
    }
   ],
   "source": [
    "df = pd.read_csv(\"id3.csv\")\n",
    "df.head()"
   ]
  },
  {
   "cell_type": "code",
   "execution_count": 3,
   "metadata": {},
   "outputs": [],
   "source": [
    "attr = df[[\"Outlook\", \"Temperature\", \"Humidity\", \"Wind\"]]\n",
    "target = df[[\"Answer\"]]"
   ]
  },
  {
   "cell_type": "code",
   "execution_count": 4,
   "metadata": {},
   "outputs": [],
   "source": [
    "def Entropy(data, attr, target, values):\n",
    "    entropy = 0\n",
    "    if values is None:\n",
    "        num_pos = data[data[target]==\"yes\"].shape[0]\n",
    "        #print(num_pos)\n",
    "        num_neg = data[data[target]==\"no\"].shape[0]\n",
    "        #print(num_neg)\n",
    "        total = num_pos+num_neg\n",
    "        \n",
    "        entropy = -(num_pos/total)*math.log((num_pos/total),2)-(num_neg/total)*math.log(num_neg/total,2)\n",
    "    else:\n",
    "        total = data.shape[0]\n",
    "        #print(\"Total: \"+str(total))\n",
    "        # For each attribute\n",
    "        #     Calculate entropy\n",
    "        #     Add to total entropy\n",
    "        for value in values:\n",
    "            num_pos = data[(data[target]==\"yes\") & (data[attr]==value)].shape[0]\n",
    "            #print(\"Num Pos: \"+str(num_pos))\n",
    "            num_neg = data[(data[target]==\"no\") & (data[attr]==value)].shape[0]\n",
    "            #print(\"Num Neg: \"+str(num_neg))\n",
    "            \n",
    "            sub_total = num_pos+num_neg\n",
    "            \n",
    "            if num_pos!=0 and num_neg!=0:\n",
    "                val = (-(num_pos/sub_total)*math.log((num_pos/sub_total),2)-(num_neg/sub_total)*math.log(num_neg/sub_total,2))\n",
    "                entropy+=((num_pos+num_neg)/total)*val\n",
    "        \n",
    "    return entropy"
   ]
  },
  {
   "cell_type": "code",
   "execution_count": 5,
   "metadata": {},
   "outputs": [],
   "source": [
    "def Gain(data, attr, attr1, target, values):\n",
    "    entropy_gain = 0\n",
    "    data_entropy = Entropy(data, attr, target, None)\n",
    "    attribute_entropy = Entropy(data, attr1, target, values)\n",
    "    \n",
    "    entropy_gain = data_entropy-attribute_entropy\n",
    "    \n",
    "    return entropy_gain"
   ]
  },
  {
   "cell_type": "code",
   "execution_count": 6,
   "metadata": {},
   "outputs": [],
   "source": [
    "class Node:\n",
    "    nodeType = None\n",
    "    value = None\n",
    "    nodeNext = None"
   ]
  },
  {
   "cell_type": "code",
   "execution_count": 7,
   "metadata": {},
   "outputs": [
    {
     "name": "stdout",
     "output_type": "stream",
     "text": [
      "0.6935361388961918\n",
      "0.7884504573082896\n",
      "0.9709505944546686\n"
     ]
    }
   ],
   "source": [
    "list(df[\"Outlook\"].unique())\n",
    "print(Entropy(df, \"Outlook\", \"Answer\", list(df[\"Outlook\"].unique())))\n",
    "print(Entropy(df, \"Humidity\", \"Answer\", list(df[\"Humidity\"].unique())))\n",
    "\n",
    "dummy_df = df[df[\"Outlook\"]==\"sunny\"]\n",
    "\n",
    "print(Gain(dummy_df, None, \"Humidity\", \"Answer\", list(df[\"Humidity\"].unique())))"
   ]
  },
  {
   "cell_type": "code",
   "execution_count": null,
   "metadata": {},
   "outputs": [],
   "source": []
  }
 ],
 "metadata": {
  "kernelspec": {
   "display_name": "Python 3",
   "language": "python",
   "name": "python3"
  },
  "language_info": {
   "codemirror_mode": {
    "name": "ipython",
    "version": 3
   },
   "file_extension": ".py",
   "mimetype": "text/x-python",
   "name": "python",
   "nbconvert_exporter": "python",
   "pygments_lexer": "ipython3",
   "version": "3.6.9"
  }
 },
 "nbformat": 4,
 "nbformat_minor": 4
}
