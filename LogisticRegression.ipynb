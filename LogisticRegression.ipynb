{
 "cells": [
  {
   "cell_type": "code",
   "execution_count": 25,
   "metadata": {},
   "outputs": [],
   "source": [
    "from numpy import genfromtxt\n",
    "import matplotlib.pyplot as plt\n",
    "from sklearn.model_selection import train_test_split\n",
    "import numpy as np"
   ]
  },
  {
   "cell_type": "markdown",
   "metadata": {},
   "source": [
    "## Loading the dataset\n",
    "Loading the pima india diabetes dataset using numpy"
   ]
  },
  {
   "cell_type": "code",
   "execution_count": 16,
   "metadata": {},
   "outputs": [],
   "source": [
    "data = genfromtxt('pima-indians-diabetes.csv', delimiter=',')\n",
    "cols = data.shape[1]\n",
    "\n",
    "# Defining X and y\n",
    "X = data[:,:cols-1]\n",
    "y = data[:,cols-1]\n",
    "\n",
    "# Train and test split\n",
    "X_train,X_test,y_train,y_test = train_test_split(\n",
    "                                    X, y, test_size=0.3,\n",
    "                                    random_state=23)"
   ]
  },
  {
   "cell_type": "markdown",
   "metadata": {},
   "source": [
    "To predict probability we will use output of linear model and logistic function:\n",
    "\n",
    "$$ a(x; w) = \\langle w, x \\rangle $$\n",
    "$$ P( y=1 \\; \\big| \\; x, \\, w) = \\dfrac{1}{1 + \\exp(- \\langle w, x \\rangle)} = \\sigma(\\langle w, x \\rangle)$$"
   ]
  },
  {
   "cell_type": "code",
   "execution_count": 20,
   "metadata": {},
   "outputs": [],
   "source": [
    "def prob(X,w):\n",
    "    \"\"\"\n",
    "    Given input features and weights\n",
    "    return predicted probabilities of y==1 given x, P(y=1|x)\n",
    "    \n",
    "    :param X: feature matrix X of shape [n_samples,6] (expanded)\n",
    "    :param w: weight vector w of shape [6] for each of the expanded features\n",
    "    :returns: an array of predicted probabilities in [0,1] interval.\n",
    "    \"\"\"\n",
    "    \n",
    "    z = np.dot(X,w)\n",
    "    s = 1./(1+np.exp(-z))\n",
    "    \n",
    "    return np.array(s)"
   ]
  },
  {
   "cell_type": "markdown",
   "metadata": {},
   "source": [
    "Calculating the loss for the l samples\n",
    "\n",
    "Loss for one sample: $$ l(x_i, y_i, w) = - \\left[ {y_i \\cdot log P(y_i = 1 \\, | \\, x_i,w) + (1-y_i) \\cdot log (1-P(y_i = 1\\, | \\, x_i,w))}\\right] $$\n",
    "\n",
    "Loss for many samples: $$ L(X, \\vec{y}, w) =  {1 \\over \\ell} \\sum_{i=1}^\\ell l(x_i, y_i, w) $$"
   ]
  },
  {
   "cell_type": "code",
   "execution_count": 114,
   "metadata": {},
   "outputs": [],
   "source": [
    "def compute_loss(X,w,y):\n",
    "    \n",
    "    y_hat = prob(X,w)\n",
    "    l = X.shape[0]\n",
    "    eps = 1e-5\n",
    "    \n",
    "    #cross_entropy = np.dot(y, np.log(y_hat))+np.dot((1-y), np.log(1-y_hat))\n",
    "    cross_entropy = y*np.log(y_hat+eps) + (1-y)*np.log(1-y_hat + eps)\n",
    "    \n",
    "    #print(\"Term 1:\")\n",
    "    #print(y*np.log(y_hat))\n",
    "    #print(\"Term 2:\")\n",
    "    #print((1-y)*np.log(1-y_hat))\n",
    "    #print(\"Cross Entropy: \")\n",
    "    #print(cross_entropy)\n",
    "    loss = -np.sum(cross_entropy)/float(l)\n",
    "    \n",
    "    return loss"
   ]
  },
  {
   "cell_type": "markdown",
   "metadata": {},
   "source": [
    "Calculating the gradient\n",
    "\n",
    "$$ \\nabla_w L = {1 \\over \\ell} \\sum_{i=1}^\\ell \\nabla_w l(x_i, y_i, w) $$ \n",
    "\n",
    "which would be given as:\n",
    "\n",
    "$$ {\\partial L \\over \\partial W} = {1 \\over \\ell} \\sum_{i=1}^\\ell (s_i - y_i) \\cdot x_i \n",
    "$$"
   ]
  },
  {
   "cell_type": "code",
   "execution_count": 119,
   "metadata": {},
   "outputs": [],
   "source": [
    "def compute_grad(X,w,y):\n",
    "    \n",
    "    s = prob(X,w)\n",
    "    l = X.shape[0]\n",
    "    \n",
    "    dZ = (s - y)\n",
    "    dW = np.dot(dZ, X)/float(l)\n",
    "    \n",
    "    return dW"
   ]
  },
  {
   "cell_type": "markdown",
   "metadata": {},
   "source": [
    "Function to visualize the loss history"
   ]
  },
  {
   "cell_type": "code",
   "execution_count": 57,
   "metadata": {},
   "outputs": [],
   "source": [
    "from IPython import display\n",
    "\n",
    "def visualize(history):\n",
    "    plt.plot(history)\n",
    "    plt.grid()\n",
    "    ymin, ymax = plt.ylim()\n",
    "    plt.ylim(0., ymax)\n",
    "    display.clear_output(wait=True)\n",
    "    plt.show()"
   ]
  },
  {
   "cell_type": "code",
   "execution_count": 111,
   "metadata": {},
   "outputs": [
    {
     "name": "stderr",
     "output_type": "stream",
     "text": [
      "/home/inf0rmed/git/ml/lib/python3.6/site-packages/ipykernel_launcher.py:1: RuntimeWarning: divide by zero encountered in log\n",
      "  \"\"\"Entry point for launching an IPython kernel.\n"
     ]
    },
    {
     "data": {
      "text/plain": [
       "-inf"
      ]
     },
     "execution_count": 111,
     "metadata": {},
     "output_type": "execute_result"
    }
   ],
   "source": [
    "np.log(0)"
   ]
  },
  {
   "cell_type": "markdown",
   "metadata": {},
   "source": [
    "### Approach 1\n",
    "\n",
    "Using Mini-batch SGD\n",
    "\n",
    "$$ w_t = w_{t-1} - \\eta {1 \\over m} \\sum_{i=1}^m (s_i - y_i) \\cdot x_i \n",
    "$$"
   ]
  },
  {
   "cell_type": "code",
   "execution_count": 118,
   "metadata": {},
   "outputs": [
    {
     "data": {
      "image/png": "[encoded data removed]",
      "text/plain": [
       "<Figure size 432x288 with 1 Axes>"
      ]
     },
     "metadata": {
      "needs_background": "light"
     },
     "output_type": "display_data"
    },
    {
     "name": "stdout",
     "output_type": "stream",
     "text": [
      "[ 5.75645773  4.3173408   3.59778233  4.3173408   8.63363385  4.3173408\n",
      "  5.75645773  5.75645773  4.3173408   4.3173408   8.6346916   2.87822387\n",
      "  5.8845328   5.75645773  3.59777925  2.1586654   7.19557467  3.59778233\n",
      "  3.61557707  2.1586654   3.58761416  7.91513313  2.87822387  3.59778233\n",
      "  7.19557467  5.03689927  5.75645773  7.19557467  7.19557467  7.68350925\n",
      "  5.75645773  5.75645773  5.75645773  5.75645773  3.59778233  5.03689927\n",
      "  3.59778233  4.3173408   6.4760162   2.1586654   4.31734115  9.35425007\n",
      "  5.03689927  5.03689927  2.87822387  2.87607209  9.35425007  3.59778233\n",
      "  7.19557467  5.75645773  2.87822388  7.19557467  4.3173408   4.3173408\n",
      "  6.4760162   5.74172897  5.03667911  8.6346916   6.4760162   8.6346916\n",
      "  3.59778233  2.87831291  2.87822358  6.47623958  2.87822387  2.87822387\n",
      "  6.47594685  2.87822387  4.54887825  9.35425007  3.59778233  4.3173408\n",
      "  6.4760162   5.03689927  4.99464183  5.75645773  7.91513313  4.3173408\n",
      "  8.6346916   5.03689927  4.31734226  7.19557467  7.19557467  5.75645773\n",
      "  3.59760429  2.72146569  6.47597901  4.3173408   3.59778233  7.9151229\n",
      "  2.87822387  3.59778233  7.19557467  3.59778233  9.35425007  4.3173408\n",
      "  5.75645773  7.91513313  2.87822387  5.75645773  4.3173408   5.97310576\n",
      "  6.47592813  2.87822387  2.1586654   5.73085932  4.3173408   5.03689927\n",
      "  2.87822387  5.00867041  1.51491031  3.59778233  6.4760162   5.75645773\n",
      "  7.91513313  5.03689927  9.3107615   2.87822387  5.03689927  5.03689676\n",
      "  5.75645773  4.3173408   4.3173408   6.52884189  3.59778233  5.03689926\n",
      "  8.6346916   3.59778233  2.87822387  5.0368859   6.47631216  4.3173408\n",
      "  5.50491985  3.5977823   7.19557467  6.4760162   7.19557467  0.71954847\n",
      "  6.1483631   8.6346916   2.87822387  5.0368993   5.75645778  3.59778233\n",
      "  3.59778233  7.19557467  6.4760162   5.75645773  6.4760162   7.19557467\n",
      "  6.4760162   6.4760162   2.87822387  6.4760162   4.3173408   9.35425007\n",
      "  3.59778233  3.59778233  8.32089255  2.1586654   4.3173408   2.87822387\n",
      "  5.54356433  3.59778233  6.4760162   5.03689927  7.91513313  5.75645773\n",
      "  4.31733687  3.59778233  1.43910696  2.87822329  3.59791933  6.4760162\n",
      "  2.87822387  4.3173408   7.91513313  6.4760162   7.91513313  4.3173408\n",
      "  0.96580854  6.47601616  5.03689927  5.29501131  5.0369093   5.03689927\n",
      "  5.75645773  6.4760162   4.05205206  4.3173408   6.4760162   2.1586654\n",
      "  5.75645773  4.3173408   3.59778233  7.91513313  1.43910693  2.87822387\n",
      "  5.75645751  3.59778561  6.47565943  6.4760162   5.03689927  3.59778233\n",
      "  2.87822387  5.74979168  5.03689927  6.4760162   4.32986812  3.59778233\n",
      "  6.47601529  4.3173408   3.59778233  9.35425007  3.59778233  5.03689927\n",
      "  3.69964127  4.3173408   7.9139361   2.87822387  3.59778233  6.4760162\n",
      "  3.59778233  5.75645773  6.4760162   2.87822387  6.4760162   5.03689927\n",
      "  5.03625731  5.03689927  5.03689927  5.75645773  6.4760162   7.19557466\n",
      "  3.59778233  2.87822387  5.03689927  3.59778233  5.75645773  4.3173408\n",
      "  2.15866659  5.03689927  0.71954847  2.1586654   5.03871711  4.25666241\n",
      "  8.6346916   2.87822387  2.87822387  2.83656153  6.4760162   2.87822387\n",
      "  5.75645923  3.59778233  3.60029762  1.43910693  4.96142918  2.87822387\n",
      "  2.17203437  5.75645773  2.87822387  7.19557458  6.4760162   2.87822404\n",
      "  3.59778229  6.4760162   4.3173408   4.31741298  5.03689927  7.91513313\n",
      "  4.3173408   6.4760162   4.31734587  7.91925857  3.59778233  2.87822387\n",
      "  5.03689927  2.87822387  5.03689927  3.59778233  7.24338958  2.87822387\n",
      "  3.66960485  5.03690007  6.4760162   3.59778233  4.3173408   7.91513267\n",
      "  3.59778233  5.75645773  7.19557467  4.3173408   3.59778233  7.19557467\n",
      "  2.16306777  2.87822387  2.87822999  5.75645773  7.19557467  7.19557467\n",
      "  5.75645773  7.19557467  3.59778233  3.77403615  7.19557467  7.19557467\n",
      "  2.35599574  2.1586654   4.31787429  1.43910693  1.43910693  3.83363412\n",
      "  6.4760162   5.03689927  5.75644809  3.59778233  7.19393827  5.03689927\n",
      "  5.03689927  2.1586654   3.28243426  6.4760162   3.59778233  3.59778234\n",
      "  7.00187191  2.87822387  2.1586654   3.5995247   6.4760162   2.1586654\n",
      "  5.03689991  7.91513313  4.3173408   6.22514041  3.59778233  4.3173408\n",
      "  2.1586654   5.03689927  3.60360196  4.3173408   2.15860185  4.83932686\n",
      "  3.96221851  1.4360204   6.47596815  2.87822387  2.15829585  5.03689776\n",
      "  2.87822387  4.62736968  6.4760162   2.87822387  9.35425007  5.75645773\n",
      "  8.3760107   3.59778233  1.43910693  5.94767634  5.03689927  6.47600742\n",
      "  6.4760162   4.3173408   4.30044058  3.59778233  9.35425007  2.87822387\n",
      "  3.59778233  4.67728126  7.19557467  4.3173408   5.03689927  2.87822387\n",
      "  5.75645773  4.3173408   8.62171228  5.75645773  3.59778253  4.3173408\n",
      "  5.75645773  3.59778233  5.0382731   2.1586654   0.73290941  3.59780591\n",
      "  5.75645773  1.43910693  4.3173408   2.1586654   4.3173408   5.79386736\n",
      "  2.1586654   0.71954847  1.05857783  4.4117971   3.59778233  3.60311447\n",
      "  2.1586654   7.91513313  7.91513313  5.75645773  9.35425007  5.75645773\n",
      "  3.59782544  3.59787733  6.47601613  4.3173408   8.64058805  3.59778233\n",
      "  1.43910693  3.59778233  9.35425007  5.75645773  5.75645773  8.6346916\n",
      "  2.1586654   4.3173408   7.91513313  5.03689929  4.31711681  3.59778233\n",
      "  5.02886899  5.03689927  3.59778237  3.59778238  8.41849377  5.75645773\n",
      "  5.75645896  5.75645773  5.75645773  4.3173408   5.75645773  5.75645773\n",
      "  5.87830436  3.59778233  6.4760162   3.59778233  2.87822387  2.87961877\n",
      "  2.87822387  3.96101458  5.03689927  4.31734247  6.4760162   5.75645773\n",
      "  2.87822387  2.1586654   4.3173408   5.75645773  7.91513313  2.1586654\n",
      "  2.87826865  7.91513313  3.59778233  1.43910694  7.19557466  5.03689927\n",
      "  7.91921599  2.1586654   3.59778233  7.19557467  4.3173408   3.59778233\n",
      "  3.59778237  5.03689927  5.03689927  7.20745779  8.6346916   4.3173408\n",
      "  4.3173408   5.03689927  5.75645773  4.3173408   4.3173408   5.03689927\n",
      "  5.03689927  4.3173408   5.75645773  4.3173408   7.19557467  5.03689927\n",
      "  5.75645794  7.915133    5.75645773  9.35425007  2.1586654   3.59778233\n",
      "  4.3173408   7.19557467  1.43910693  2.87823187  4.3173408   8.6346916\n",
      "  5.03689927  4.3173408   3.59778233  4.3173408   2.87822387  4.3173408\n",
      "  2.87822387  4.31491873  2.1586654   4.91307544  3.59778233  4.3173408\n",
      "  7.00041119  6.59823079  4.3173408   8.6346916   2.1586654   5.03689927\n",
      "  8.6346916   2.87822387  2.09843945  1.43910693  2.87822387  7.91513313\n",
      "  5.03689927  6.01596654  5.03689927  4.3173408   8.6346916   5.03689927\n",
      "  2.1586654   5.30274257  2.87822387  7.91513313  5.03689927  3.59778233\n",
      "  6.35770759  2.87822387  4.16081027  5.03689927  6.47600418  3.59778212\n",
      "  2.87822387  5.75645773  5.75645773  6.4760162   2.87822387  4.3173408\n",
      "  2.87863152  2.1586654   7.19557467  3.59778233  8.6346916   5.03689927\n",
      "  5.03690479  5.75645773  2.87822386  3.59778221  4.97895876  2.87822387\n",
      "  2.87822387  4.3173408   2.87822451  7.19557467  3.59778233  2.87822387\n",
      "  1.4390876   5.75644756  7.19557467  2.87822387  7.19557467  2.87822387\n",
      "  2.15798099  2.30958129  4.80072557  7.19557467  4.3173408   5.75645773\n",
      "  4.3173408   2.87822387  3.59778233  5.03689927  5.03689927  4.3173408\n",
      "  4.3316602   5.03689927  5.75645773  4.3173408   5.34659188  7.91512496\n",
      "  6.4760162   4.3173408   4.3173408   6.4760162   3.59778233  7.75886376\n",
      "  3.59778233  2.15866542  3.59778235  6.28536411  2.87822387  8.6346916\n",
      "  2.87824615  5.03689927  5.0399541   3.59778233  5.75645773  2.87822387\n",
      "  7.19557467  2.87822387  4.3173408   5.03689891  8.6346916   3.59778233\n",
      "  5.03689927  7.19557467  4.3173408   2.88022101  5.75656221  1.43910693\n",
      "  3.59778233  8.6346916   5.03689927  3.59778232  8.6346916   4.3173408\n",
      "  4.37217323  8.63469696  3.59778233  4.31727869  5.75645773  3.59778233\n",
      "  2.72782705  8.6346916   5.75645773  5.75645773  6.07298243  3.59778233\n",
      "  5.03689885  2.1586654   4.3173408   2.1586654   4.3173408   7.33847535\n",
      "  4.3173408   2.87704981  3.59778233  5.03689927  5.03689927  2.87822387\n",
      "  5.75645773  2.87822387  6.41780721  4.3173408   2.16353765  3.59778233\n",
      "  7.19557467  4.3173408   4.3173408   4.99097927  3.57340551  4.3173408\n",
      "  7.19557467  4.3173408   6.4759653   2.87822387  7.19557467  5.75645773\n",
      " 10.07380853  5.03689927  7.91513313  5.03689927  5.75645773  2.87822387\n",
      "  4.3173408   8.6346916   4.3173408   7.91513313  4.3173408   4.3173408\n",
      "  6.4760162   5.03689927  7.91513313  5.03689927  6.4760162   2.87822387\n",
      "  2.87822676  5.75645773  3.59778233  5.03689927  2.87822387  6.80130205\n",
      "  3.59778233  6.66385233  5.03689927  7.11452913  5.02034739  2.15866548\n",
      "  5.03689927  2.1586654   5.2699902   5.75645773  5.76275683  2.87822387\n",
      "  3.5888032   2.1586654   5.75388465  4.30639321  5.03691101  9.35425007\n",
      "  3.59778479  2.87822387  3.59778233  6.4760155   2.1586654   4.31689137\n",
      "  4.3173408   5.86498697  8.6346916   4.3173408   5.60135609  2.87822387\n",
      "  5.03689927  3.59778233  8.63469041  3.59778233  4.31757209  7.19557467\n",
      "  2.1586654   1.43910693  4.3173408   2.1586654   7.19557467  2.1586654\n",
      "  4.3173408   5.75645755  3.59778233  2.87822387  4.3173408   2.87822387\n",
      "  5.75645773  0.71954847  6.10329952  3.59778233  4.7395222   6.4760162\n",
      "  3.59778233  5.75645773  5.75645773  4.7753724   5.51600374  3.59778233\n",
      "  3.59778046  2.87864194  4.3173408   9.35425007  2.87822387  6.4760162\n",
      "  5.03689927  6.4760162   2.1586654   2.1586654   6.4760162   4.3173408\n",
      "  4.3173408   6.4760162   9.35425007  3.59778233  2.87822387  5.03689926\n",
      "  3.6495662   5.7608218   2.1586654   6.4760162   6.4760162   6.47600558\n",
      "  8.6346916   1.43910693  2.87822387  7.5616774   4.3173408   9.35425218\n",
      "  4.3173408   5.75771386  2.87822387  4.3173408   9.35424855  3.59778233\n",
      "  3.58648855  1.43910693  4.16317497  8.6346916   4.3173408   5.75645773\n",
      "  4.3173408   5.75645772  2.15874566  4.3173408   2.87822387  1.43910693\n",
      "  4.3173408   7.19557467  3.59778233  3.53187776  7.91513313  2.1586654\n",
      "  6.4760162   5.03689027  3.59636268  6.4760162   5.03689927  5.78145361\n",
      "  3.59778233  2.87822387  1.43910693  3.59700651  4.3173408   8.6346916\n",
      "  3.59778233  4.3173408   3.75582776  3.59778233  6.91940998  3.59778233\n",
      " 10.07380853  6.4760162   5.75645773  2.87822387  5.6609987   2.1586654\n",
      "  3.89094677  5.03689927  8.6346916   2.1586654   4.3173408   3.59778233\n",
      "  3.59778233  6.4760162   6.4760162   8.6346916   4.3173408   5.03689927\n",
      "  6.4760162   4.3173408   1.21034004  5.03762798  1.19459144  5.56655465\n",
      "  3.59778233  5.03689927  4.3173408   7.91513313  5.75645773  9.17100424\n",
      "  2.87822387  1.43910693  2.1586654   5.75310179  2.87822387  9.35425007\n",
      "  1.43910693  3.59778233  4.3173408   8.6346916   4.3173408   6.4760162\n",
      "  6.4760162   7.14558757  4.31920162  5.75645773  1.43910693  2.1586654\n",
      "  5.75645773  5.75645773  7.19557467  4.3173408   5.2710724   4.3173408\n",
      "  2.92640957  1.43910693  4.31728763  6.4760162   3.59778233  5.75645773\n",
      "  2.87822387  4.31733901  4.3173408   2.1586654   3.59778233  2.87822387\n",
      "  5.03689927  4.3173408   7.19557467  2.87822387  4.401759    9.35425007\n",
      "  5.03689927  7.91513313  5.75645773  7.19557467  4.3173408   2.1586654\n",
      "  6.11291271  4.3173408   7.91513313  4.3173408   2.15866558  2.1586654\n",
      "  5.7564629   5.27539833  4.3173408   6.4760162   5.03689927  7.91459784\n",
      "  2.878763    3.95645194  4.3173408   8.6346916   1.43910693  4.3173408\n",
      "  0.80346176  4.3173408   6.4760162   5.75645773  6.90184191  2.1586654\n",
      "  0.71954847  6.47600381  3.59788581  2.1586654   5.03689927  8.6346916\n",
      "  2.1586654   2.89865149  5.03689927  2.87822387  2.87822387  5.75645773\n",
      "  4.3173408   1.43910693  7.19556853  2.1586654   5.03689903  5.75645773\n",
      "  3.59778233  7.19557467  2.87822387  5.03689927  4.3173408   3.85783188\n",
      "  5.75645773  2.87822387  2.87822387  5.60916138  5.75645773  2.17831464\n",
      "  4.31734076  2.1586654   3.59778233  9.35425007  5.75645773  3.59778161\n",
      "  4.3173408   4.3168015   4.3173408   2.18819844  6.47601602  2.1586654\n",
      "  1.43910693  6.4760162   3.59778233  3.59776568  8.6346916   3.59778233\n",
      "  4.3173408   5.03689927  2.87822387  4.3173408  10.07380853  7.19557467\n",
      "  5.03689927  5.61361643  5.76248973  3.59778233  5.03689927  2.1586654\n",
      "  5.75645773  6.47497187  4.3173408   2.94027289  5.75669296  3.60171469\n",
      "  2.1586654   7.91513313  2.87822387  4.77782035  6.00773355  2.87822387\n",
      "  2.1586654   9.35422908  8.6346916   9.35425007  3.59778233  4.3173408\n",
      "  7.19557467  8.6346916   3.59778233  5.75645773]\n"
     ]
    },
    {
     "data": {
      "text/plain": [
       "<Figure size 432x288 with 0 Axes>"
      ]
     },
     "metadata": {},
     "output_type": "display_data"
    }
   ],
   "source": [
    "np.random.seed(23)\n",
    "# Initialize the weights\n",
    "w = np.random.rand(8,)\n",
    "# Learning rate\n",
    "neu = 0.1\n",
    "# Number of iterations\n",
    "n_iter = 1000\n",
    "# Loss history\n",
    "loss = np.zeros(n_iter)\n",
    "\n",
    "\n",
    "for i in range(n_iter):\n",
    "    ind = np.random.choice(X_train.shape[0], 16)\n",
    "    _loss = compute_loss(X_train[ind,:], w, y_train[ind])\n",
    "    \n",
    "\n",
    "    if np.isnan(_loss):\n",
    "        print(\"Weight: \")\n",
    "        print(w)\n",
    "        print(\"\\nBatch\")\n",
    "        print(X_train[ind,:])\n",
    "        print(\"\\nY:\")\n",
    "        print(y_train[ind])\n",
    "        print(\"\\nProb: \")\n",
    "        print(prob(X_train[ind,:], w))\n",
    "        break\n",
    "\n",
    "    loss[i] = _loss\n",
    "    \n",
    "    if i%10==0:\n",
    "        visualize(loss)\n",
    "        \n",
    "    # Get the gradient\n",
    "    dW = compute_grad(X_train[ind,:], w, y_train[ind])\n",
    "    \n",
    "    # Adjust weights\n",
    "    w = w - neu*dW\n",
    "\n",
    "visualize(loss)\n",
    "plt.clf()\n",
    "\n",
    "print(loss)\n"
   ]
  }
 ],
 "metadata": {
  "kernelspec": {
   "display_name": "Python 3",
   "language": "python",
   "name": "python3"
  },
  "language_info": {
   "codemirror_mode": {
    "name": "ipython",
    "version": 3
   },
   "file_extension": ".py",
   "mimetype": "text/x-python",
   "name": "python",
   "nbconvert_exporter": "python",
   "pygments_lexer": "ipython3",
   "version": "3.6.9"
  }
 },
 "nbformat": 4,
 "nbformat_minor": 4
}
